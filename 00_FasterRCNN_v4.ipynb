{
 "cells": [
  {
   "cell_type": "markdown",
   "id": "36fc594a-621e-41d8-a986-bf960ee30402",
   "metadata": {},
   "source": [
    "# Packages"
   ]
  },
  {
   "cell_type": "code",
   "execution_count": 1,
   "id": "b2964862-641d-45b1-a300-3d89b1ea6513",
   "metadata": {},
   "outputs": [],
   "source": [
    "import torch, os, sys, warnings,tqdm, importlib\n",
    "import numpy as np\n",
    "import pandas as pd\n",
    "import matplotlib.pyplot as plt\n",
    "import sodtool.sodt_utils as sodt_utils\n",
    "import sodtool.evaluator as lhtevaluator\n",
    "from PIL import Image\n",
    "warnings.filterwarnings(\"ignore\")"
   ]
  },
  {
   "cell_type": "code",
   "execution_count": 2,
   "id": "4d286928-d904-4b9b-ad4d-e434b19452f7",
   "metadata": {},
   "outputs": [
    {
     "data": {
      "text/plain": [
       "<module 'sodtool.evaluator' from '/home/hxl170008/code/NSF/paper_redundancy/sodtool/evaluator.py'>"
      ]
     },
     "execution_count": 2,
     "metadata": {},
     "output_type": "execute_result"
    }
   ],
   "source": [
    "importlib.reload(sodt_utils)\n",
    "importlib.reload(lhtevaluator)"
   ]
  },
  {
   "cell_type": "markdown",
   "id": "c7ef9e04-3a34-4b74-b3c8-797d44c359b9",
   "metadata": {},
   "source": []
  },
  {
   "cell_type": "markdown",
   "id": "0e649943-9426-4bd4-8754-aeb6a2a5aa82",
   "metadata": {},
   "source": [
    "# Configuration"
   ]
  },
  {
   "cell_type": "code",
   "execution_count": 3,
   "id": "8d704805-0fde-4c92-9f9f-088ba09f4408",
   "metadata": {},
   "outputs": [
    {
     "name": "stdout",
     "output_type": "stream",
     "text": [
      "backup/FasterRCNN\n"
     ]
    }
   ],
   "source": [
    "class Config:\n",
    "    root = r'/data/lht/data/NDT_Deer'\n",
    "    exp_name = \"backup/FasterRCNN\"\n",
    "    roi_best = 0.5\n",
    "    num_acc  = 0.5\n",
    "    areaRng = [[0, 10000000000.0], [0,187],[187.5,405],[408,10000000000.0]]\n",
    "    metric = ['AP_0.5:0.95_all','AP_0.5_all','AP_0.75_all','AP_0.5:0.95_small','AP_0.5:0.95_medium','AP_0.5:0.95_large',\n",
    "          'AR_0.5:0.95_all_MD1','AR_0.5:0.95_all_MD10','AR_0.5:0.95_all_MD100',\n",
    "          'AR_0.5:0.95_small','AR_0.5:0.95_medium','AR_0.5:0.95_large',\n",
    "         ]\n",
    "#\n",
    "opt = Config()\n",
    "if os.path.isdir(opt.exp_name):\n",
    "    print(opt.exp_name)\n",
    "else:\n",
    "    os.mkdir(opt.exp_name)"
   ]
  },
  {
   "cell_type": "markdown",
   "id": "909d19a4-9599-4033-b0c3-e825cea755c8",
   "metadata": {},
   "source": [
    "# Model"
   ]
  },
  {
   "cell_type": "code",
   "execution_count": 4,
   "id": "475bc390-85e5-4661-b073-b58498b8e89f",
   "metadata": {},
   "outputs": [],
   "source": [
    "from torchvision.models.detection.rpn import AnchorGenerator"
   ]
  },
  {
   "cell_type": "code",
   "execution_count": 5,
   "id": "c80e47dc-5f2f-4bc3-ab57-649626419e8b",
   "metadata": {},
   "outputs": [
    {
     "name": "stderr",
     "output_type": "stream",
     "text": [
      "100%|██████████████████████████████████████████████████████████████████████████████████████████████████████████████████████████████████████████████████| 5/5 [00:04<00:00,  1.10it/s]\n"
     ]
    }
   ],
   "source": [
    "fpn_resnets={}\n",
    "resnet_weights=sodt_utils.resnet_weights\n",
    "resnet_names = sodt_utils.resnet_names\n",
    "\n",
    "for name in tqdm.tqdm(resnet_names):\n",
    "    weights = resnet_weights[name]\n",
    "    fpn_resnets[name] = sodt_utils.lht_ResNetFPNBackBoneByLayerID(resnet_name=name,weights=weights,trainable_layers=5,returned_layers=[1,2,3,4])"
   ]
  },
  {
   "cell_type": "code",
   "execution_count": 6,
   "id": "7b9366a4-7e93-44c8-8a32-0a6df676168c",
   "metadata": {},
   "outputs": [],
   "source": [
    "frcnn_fpn_res = {}\n",
    "aspect_ratios = ((0.5, 1.0, 2.0),) * 5\n",
    "featmap_names=['0','1','2','3']\n",
    "anchor_sizes = ((4,8,16,32,64),)*5\n",
    "roi_output_size=(8,10)\n",
    "num_classes = 2\n",
    "# fpn based on COCO datasets\n",
    "for k,v in fpn_resnets.items():\n",
    "    rpn_anchor_generator =  AnchorGenerator(anchor_sizes, aspect_ratios)\n",
    "    m = sodt_utils.lhtInitializeFasterRCNN_FPN_ResNet(rpn_anchor_generator=rpn_anchor_generator, roi_output_size=roi_output_size,\n",
    "                                                 featmap_names=featmap_names, bb_res_fpn=v, num_classes=num_classes)\n",
    "    frcnn_fpn_res[k] = m"
   ]
  },
  {
   "cell_type": "markdown",
   "id": "2ad3c1a3-b3d1-443a-948e-0c13ba3aa0be",
   "metadata": {},
   "source": [
    "# Train"
   ]
  },
  {
   "cell_type": "code",
   "execution_count": 7,
   "id": "fe8a3209-059a-4d17-a7b8-6e09439e6e30",
   "metadata": {},
   "outputs": [
    {
     "data": {
      "text/plain": [
       "'train:1833, test: 444'"
      ]
     },
     "execution_count": 7,
     "metadata": {},
     "output_type": "execute_result"
    }
   ],
   "source": [
    "fp1 = os.path.join(opt.root, 'Train','imgs.txt')\n",
    "fp2 = os.path.join(opt.root, 'Train','anns.txt')\n",
    "trainImgs = np.loadtxt(fp1,dtype=str)\n",
    "trainAnns = np.loadtxt(fp2,dtype=str)\n",
    "#\n",
    "fp1 = os.path.join(opt.root, 'Test','imgs.txt')\n",
    "fp2 = os.path.join(opt.root, 'Test','anns.txt')\n",
    "testImgs = np.loadtxt(fp1,dtype=str)\n",
    "testAnns = np.loadtxt(fp2,dtype=str)\n",
    "#\n",
    "trainDS = sodt_utils.BBoxDataset(root=opt.root,imgs=trainImgs,anns=trainAnns,transform=sodt_utils.get_transform())\n",
    "testDS  = sodt_utils.BBoxDataset(root=opt.root,imgs=testImgs,anns=testAnns, transform=sodt_utils.get_transform())\n",
    "#\n",
    "train_loader = torch.utils.data.DataLoader(trainDS,batch_size=5,shuffle=True, num_workers=1, collate_fn=sodt_utils.collate_fn)\n",
    "test_loader  = torch.utils.data.DataLoader(testDS,batch_size=5,shuffle=False, num_workers=1, collate_fn=sodt_utils.collate_fn)\n",
    "f'train:{len(trainDS)}, test: {len(testDS)}'"
   ]
  },
  {
   "cell_type": "code",
   "execution_count": 8,
   "id": "af9fd018-20df-48d7-b060-c2e4bde4ca72",
   "metadata": {},
   "outputs": [
    {
     "data": {
      "text/plain": [
       "'train:59, test:30'"
      ]
     },
     "execution_count": 8,
     "metadata": {},
     "output_type": "execute_result"
    }
   ],
   "source": [
    "fp1 = os.path.join(opt.root, 'TrainGIF','imgs.txt')\n",
    "fp2 = os.path.join(opt.root, 'TrainGIF','anns.txt')\n",
    "trainImgs = np.loadtxt(fp1,dtype=str)\n",
    "trainAnns = np.loadtxt(fp2,dtype=str)\n",
    "#\n",
    "fp1 = os.path.join(opt.root, 'TestGIF','imgs.txt')\n",
    "fp2 = os.path.join(opt.root, 'TestGIF','anns.txt')\n",
    "testImgs = np.loadtxt(fp1,dtype=str)\n",
    "testAnns = np.loadtxt(fp2,dtype=str)\n",
    "#\n",
    "trainDS_gif = sodt_utils.BBoxDataset(root=opt.root,imgs=trainImgs,anns=trainAnns,transform=sodt_utils.get_transform())\n",
    "testDS_gif  = sodt_utils.BBoxDataset(root=opt.root,imgs=testImgs,anns=testAnns,transform=sodt_utils.get_transform())\n",
    "#\n",
    "train_gif_loader  = torch.utils.data.DataLoader(trainDS_gif,batch_size=2,shuffle=False, num_workers=1, collate_fn=sodt_utils.collate_fn)\n",
    "test_gif_loader  = torch.utils.data.DataLoader(testDS_gif,batch_size=2,shuffle=False, num_workers=1, collate_fn=sodt_utils.collate_fn)\n",
    "f'train:{len(trainDS_gif)}, test:{len(testDS_gif)}'"
   ]
  },
  {
   "cell_type": "code",
   "execution_count": 9,
   "id": "56049f2e-d922-46d8-9055-3fc63869332f",
   "metadata": {},
   "outputs": [],
   "source": [
    "#model = FasterRCNN_VGG16_BN()\n",
    "dic_gif_train, dic_gif_test = {},{}\n",
    "ret_bratios={}\n",
    "device = torch.device(\"cuda\")\n",
    "num_epochs = 500\n",
    "step_size_up = 300 #50\n",
    "patience = 20"
   ]
  },
  {
   "cell_type": "code",
   "execution_count": null,
   "id": "daf6b7fa-e5ce-4fa5-a1ba-b3642709d12d",
   "metadata": {},
   "outputs": [
    {
     "data": {
      "application/vnd.jupyter.widget-view+json": {
       "model_id": "60c3c9737fae4b7da9e6e68513095235",
       "version_major": 2,
       "version_minor": 0
      },
      "text/plain": [
       "  0%|          | 0/5 [00:00<?, ?it/s]"
      ]
     },
     "metadata": {},
     "output_type": "display_data"
    },
    {
     "name": "stdout",
     "output_type": "stream",
     "text": [
      "palette: 0, model: resnet18, path:backup/FasterRCNN/NDT_Deer/resnet18/0, suffix:deer_fpn_resnet18\n"
     ]
    },
    {
     "data": {
      "application/vnd.jupyter.widget-view+json": {
       "model_id": "e4239c1cb4af4a189ee8a906f346304d",
       "version_major": 2,
       "version_minor": 0
      },
      "text/plain": [
       "  0%|          | 0/500 [00:00<?, ?it/s]"
      ]
     },
     "metadata": {},
     "output_type": "display_data"
    },
    {
     "data": {
      "application/vnd.jupyter.widget-view+json": {
       "model_id": "",
       "version_major": 2,
       "version_minor": 0
      },
      "text/plain": [
       "  0%|          | 0/367 [00:00<?, ?it/s]"
      ]
     },
     "metadata": {},
     "output_type": "display_data"
    },
    {
     "name": "stdout",
     "output_type": "stream",
     "text": [
      "Epoch: [0] [  0/367] eta: 0:12:12 lr: 0.000100 loss: 1.2786 (1.2786) time: 1.9971 data: 0.4779 max mem: 1663\n",
      "Epoch: [0] [366/367] eta: 0:00:00 lr: 0.000001 loss: 0.2831 (0.5153) time: 0.1918 data: 0.0470 max mem: 2536\n",
      "Epoch: [0] Total time: 0:01:10 (0.1931 s / it)\n",
      "creating index...\n",
      "index created!\n"
     ]
    },
    {
     "data": {
      "application/vnd.jupyter.widget-view+json": {
       "model_id": "",
       "version_major": 2,
       "version_minor": 0
      },
      "text/plain": [
       "  0%|          | 0/89 [00:00<?, ?it/s]"
      ]
     },
     "metadata": {},
     "output_type": "display_data"
    },
    {
     "name": "stdout",
     "output_type": "stream",
     "text": [
      "Accumulating evaluation results...\n",
      "DONE (t=0.08s).\n"
     ]
    },
    {
     "data": {
      "application/vnd.jupyter.widget-view+json": {
       "model_id": "",
       "version_major": 2,
       "version_minor": 0
      },
      "text/plain": [
       "  0%|          | 0/15 [00:00<?, ?it/s]"
      ]
     },
     "metadata": {},
     "output_type": "display_data"
    },
    {
     "data": {
      "application/vnd.jupyter.widget-view+json": {
       "model_id": "",
       "version_major": 2,
       "version_minor": 0
      },
      "text/plain": [
       "  0%|          | 0/30 [00:00<?, ?it/s]"
      ]
     },
     "metadata": {},
     "output_type": "display_data"
    },
    {
     "name": "stdout",
     "output_type": "stream",
     "text": [
      "stats:[2.51363295e-04 1.23058981e-03 2.95551943e-05 2.28660279e-06\n",
      " 6.03469674e-04 6.45397873e-04 5.91715976e-04 1.54756486e-03\n",
      " 3.18616295e-03 1.74520070e-04 4.94071146e-03 3.10457516e-03]\n"
     ]
    },
    {
     "data": {
      "application/vnd.jupyter.widget-view+json": {
       "model_id": "",
       "version_major": 2,
       "version_minor": 0
      },
      "text/plain": [
       "  0%|          | 0/367 [00:00<?, ?it/s]"
      ]
     },
     "metadata": {},
     "output_type": "display_data"
    },
    {
     "name": "stdout",
     "output_type": "stream",
     "text": [
      "Epoch: [1] [  0/367] eta: 0:02:08 lr: 0.000133 loss: 0.3463 (0.3463) time: 0.3510 data: 0.1776 max mem: 2536\n",
      "Epoch: [1] [366/367] eta: 0:00:00 lr: 0.000133 loss: 0.3292 (0.2888) time: 0.1432 data: 0.0115 max mem: 2551\n",
      "Epoch: [1] Total time: 0:00:53 (0.1461 s / it)\n",
      "creating index...\n",
      "index created!\n"
     ]
    },
    {
     "data": {
      "application/vnd.jupyter.widget-view+json": {
       "model_id": "",
       "version_major": 2,
       "version_minor": 0
      },
      "text/plain": [
       "  0%|          | 0/89 [00:00<?, ?it/s]"
      ]
     },
     "metadata": {},
     "output_type": "display_data"
    },
    {
     "name": "stdout",
     "output_type": "stream",
     "text": [
      "Accumulating evaluation results...\n",
      "DONE (t=0.18s).\n"
     ]
    },
    {
     "data": {
      "application/vnd.jupyter.widget-view+json": {
       "model_id": "",
       "version_major": 2,
       "version_minor": 0
      },
      "text/plain": [
       "  0%|          | 0/15 [00:00<?, ?it/s]"
      ]
     },
     "metadata": {},
     "output_type": "display_data"
    },
    {
     "data": {
      "application/vnd.jupyter.widget-view+json": {
       "model_id": "",
       "version_major": 2,
       "version_minor": 0
      },
      "text/plain": [
       "  0%|          | 0/30 [00:00<?, ?it/s]"
      ]
     },
     "metadata": {},
     "output_type": "display_data"
    },
    {
     "name": "stdout",
     "output_type": "stream",
     "text": [
      "stats:[0.03060535 0.1175765  0.00388778 0.10192309 0.03567218 0.02660292\n",
      " 0.02476104 0.08730086 0.13513883 0.10924956 0.21353755 0.02973856]\n"
     ]
    },
    {
     "data": {
      "application/vnd.jupyter.widget-view+json": {
       "model_id": "",
       "version_major": 2,
       "version_minor": 0
      },
      "text/plain": [
       "  0%|          | 0/367 [00:00<?, ?it/s]"
      ]
     },
     "metadata": {},
     "output_type": "display_data"
    },
    {
     "name": "stdout",
     "output_type": "stream",
     "text": [
      "Epoch: [2] [  0/367] eta: 0:02:04 lr: 0.000166 loss: 0.4071 (0.4071) time: 0.3401 data: 0.1688 max mem: 2551\n",
      "Epoch: [2] [366/367] eta: 0:00:00 lr: 0.000166 loss: 0.3891 (0.3424) time: 0.1447 data: 0.0134 max mem: 2551\n",
      "Epoch: [2] Total time: 0:00:54 (0.1476 s / it)\n",
      "creating index...\n",
      "index created!\n"
     ]
    },
    {
     "data": {
      "application/vnd.jupyter.widget-view+json": {
       "model_id": "",
       "version_major": 2,
       "version_minor": 0
      },
      "text/plain": [
       "  0%|          | 0/89 [00:00<?, ?it/s]"
      ]
     },
     "metadata": {},
     "output_type": "display_data"
    },
    {
     "name": "stdout",
     "output_type": "stream",
     "text": [
      "Accumulating evaluation results...\n",
      "DONE (t=0.21s).\n"
     ]
    },
    {
     "data": {
      "application/vnd.jupyter.widget-view+json": {
       "model_id": "",
       "version_major": 2,
       "version_minor": 0
      },
      "text/plain": [
       "  0%|          | 0/15 [00:00<?, ?it/s]"
      ]
     },
     "metadata": {},
     "output_type": "display_data"
    },
    {
     "data": {
      "application/vnd.jupyter.widget-view+json": {
       "model_id": "",
       "version_major": 2,
       "version_minor": 0
      },
      "text/plain": [
       "  0%|          | 0/30 [00:00<?, ?it/s]"
      ]
     },
     "metadata": {},
     "output_type": "display_data"
    },
    {
     "name": "stdout",
     "output_type": "stream",
     "text": [
      "stats:[0.07103771 0.26438898 0.00924798 0.1793509  0.09052673 0.03485375\n",
      " 0.0454711  0.15471097 0.2249431  0.20715532 0.33557312 0.05866013]\n"
     ]
    },
    {
     "data": {
      "application/vnd.jupyter.widget-view+json": {
       "model_id": "",
       "version_major": 2,
       "version_minor": 0
      },
      "text/plain": [
       "  0%|          | 0/367 [00:00<?, ?it/s]"
      ]
     },
     "metadata": {},
     "output_type": "display_data"
    },
    {
     "name": "stdout",
     "output_type": "stream",
     "text": [
      "Epoch: [3] [  0/367] eta: 0:02:04 lr: 0.000199 loss: 0.4488 (0.4488) time: 0.3405 data: 0.1812 max mem: 2551\n",
      "Epoch: [3] [366/367] eta: 0:00:00 lr: 0.000199 loss: 0.2655 (0.3653) time: 0.1420 data: 0.0115 max mem: 2554\n",
      "Epoch: [3] Total time: 0:00:53 (0.1458 s / it)\n",
      "creating index...\n",
      "index created!\n"
     ]
    },
    {
     "data": {
      "application/vnd.jupyter.widget-view+json": {
       "model_id": "",
       "version_major": 2,
       "version_minor": 0
      },
      "text/plain": [
       "  0%|          | 0/89 [00:00<?, ?it/s]"
      ]
     },
     "metadata": {},
     "output_type": "display_data"
    },
    {
     "name": "stdout",
     "output_type": "stream",
     "text": [
      "Accumulating evaluation results...\n",
      "DONE (t=0.13s).\n"
     ]
    },
    {
     "data": {
      "application/vnd.jupyter.widget-view+json": {
       "model_id": "",
       "version_major": 2,
       "version_minor": 0
      },
      "text/plain": [
       "  0%|          | 0/15 [00:00<?, ?it/s]"
      ]
     },
     "metadata": {},
     "output_type": "display_data"
    },
    {
     "data": {
      "application/vnd.jupyter.widget-view+json": {
       "model_id": "",
       "version_major": 2,
       "version_minor": 0
      },
      "text/plain": [
       "  0%|          | 0/30 [00:00<?, ?it/s]"
      ]
     },
     "metadata": {},
     "output_type": "display_data"
    },
    {
     "name": "stdout",
     "output_type": "stream",
     "text": [
      "stats:[0.13090254 0.45753884 0.02164298 0.21330629 0.16816171 0.09041665\n",
      " 0.05339099 0.20905781 0.28716431 0.23071553 0.40958498 0.1375817 ]\n"
     ]
    },
    {
     "data": {
      "application/vnd.jupyter.widget-view+json": {
       "model_id": "",
       "version_major": 2,
       "version_minor": 0
      },
      "text/plain": [
       "  0%|          | 0/367 [00:00<?, ?it/s]"
      ]
     },
     "metadata": {},
     "output_type": "display_data"
    },
    {
     "name": "stdout",
     "output_type": "stream",
     "text": [
      "Epoch: [4] [  0/367] eta: 0:02:08 lr: 0.000232 loss: 0.4624 (0.4624) time: 0.3497 data: 0.1763 max mem: 2554\n",
      "Epoch: [4] [366/367] eta: 0:00:00 lr: 0.000232 loss: 0.3628 (0.3828) time: 0.1443 data: 0.0115 max mem: 2554\n",
      "Epoch: [4] Total time: 0:00:53 (0.1467 s / it)\n",
      "creating index...\n",
      "index created!\n"
     ]
    },
    {
     "data": {
      "application/vnd.jupyter.widget-view+json": {
       "model_id": "",
       "version_major": 2,
       "version_minor": 0
      },
      "text/plain": [
       "  0%|          | 0/89 [00:00<?, ?it/s]"
      ]
     },
     "metadata": {},
     "output_type": "display_data"
    },
    {
     "name": "stdout",
     "output_type": "stream",
     "text": [
      "Accumulating evaluation results...\n",
      "DONE (t=0.12s).\n"
     ]
    },
    {
     "data": {
      "application/vnd.jupyter.widget-view+json": {
       "model_id": "",
       "version_major": 2,
       "version_minor": 0
      },
      "text/plain": [
       "  0%|          | 0/15 [00:00<?, ?it/s]"
      ]
     },
     "metadata": {},
     "output_type": "display_data"
    },
    {
     "data": {
      "application/vnd.jupyter.widget-view+json": {
       "model_id": "",
       "version_major": 2,
       "version_minor": 0
      },
      "text/plain": [
       "  0%|          | 0/30 [00:00<?, ?it/s]"
      ]
     },
     "metadata": {},
     "output_type": "display_data"
    },
    {
     "name": "stdout",
     "output_type": "stream",
     "text": [
      "stats:[0.17865333 0.55994654 0.03816564 0.22300727 0.21544801 0.1440443\n",
      " 0.06172053 0.2438325  0.34533455 0.27766143 0.44673913 0.24101307]\n"
     ]
    },
    {
     "data": {
      "application/vnd.jupyter.widget-view+json": {
       "model_id": "",
       "version_major": 2,
       "version_minor": 0
      },
      "text/plain": [
       "  0%|          | 0/367 [00:00<?, ?it/s]"
      ]
     },
     "metadata": {},
     "output_type": "display_data"
    },
    {
     "name": "stdout",
     "output_type": "stream",
     "text": [
      "Epoch: [5] [  0/367] eta: 0:02:07 lr: 0.000265 loss: 0.1743 (0.1743) time: 0.3481 data: 0.1755 max mem: 2554\n",
      "Epoch: [5] [366/367] eta: 0:00:00 lr: 0.000265 loss: 0.4513 (0.4081) time: 0.1438 data: 0.0117 max mem: 2554\n",
      "Epoch: [5] Total time: 0:00:53 (0.1463 s / it)\n",
      "creating index...\n",
      "index created!\n"
     ]
    },
    {
     "data": {
      "application/vnd.jupyter.widget-view+json": {
       "model_id": "",
       "version_major": 2,
       "version_minor": 0
      },
      "text/plain": [
       "  0%|          | 0/89 [00:00<?, ?it/s]"
      ]
     },
     "metadata": {},
     "output_type": "display_data"
    },
    {
     "name": "stdout",
     "output_type": "stream",
     "text": [
      "Accumulating evaluation results...\n",
      "DONE (t=0.10s).\n"
     ]
    },
    {
     "data": {
      "application/vnd.jupyter.widget-view+json": {
       "model_id": "",
       "version_major": 2,
       "version_minor": 0
      },
      "text/plain": [
       "  0%|          | 0/15 [00:00<?, ?it/s]"
      ]
     },
     "metadata": {},
     "output_type": "display_data"
    },
    {
     "data": {
      "application/vnd.jupyter.widget-view+json": {
       "model_id": "",
       "version_major": 2,
       "version_minor": 0
      },
      "text/plain": [
       "  0%|          | 0/30 [00:00<?, ?it/s]"
      ]
     },
     "metadata": {},
     "output_type": "display_data"
    },
    {
     "name": "stdout",
     "output_type": "stream",
     "text": [
      "stats:[0.22819997 0.61776121 0.07970804 0.20530646 0.25811005 0.22978161\n",
      " 0.07291761 0.27897132 0.40195721 0.31588133 0.46442688 0.37924837]\n"
     ]
    },
    {
     "data": {
      "application/vnd.jupyter.widget-view+json": {
       "model_id": "",
       "version_major": 2,
       "version_minor": 0
      },
      "text/plain": [
       "  0%|          | 0/367 [00:00<?, ?it/s]"
      ]
     },
     "metadata": {},
     "output_type": "display_data"
    },
    {
     "name": "stdout",
     "output_type": "stream",
     "text": [
      "Epoch: [6] [  0/367] eta: 0:02:04 lr: 0.000298 loss: 0.3096 (0.3096) time: 0.3400 data: 0.1688 max mem: 2554\n",
      "Epoch: [6] [366/367] eta: 0:00:00 lr: 0.000298 loss: 0.3985 (0.4247) time: 0.1426 data: 0.0114 max mem: 2555\n",
      "Epoch: [6] Total time: 0:00:53 (0.1463 s / it)\n",
      "creating index...\n",
      "index created!\n"
     ]
    },
    {
     "data": {
      "application/vnd.jupyter.widget-view+json": {
       "model_id": "",
       "version_major": 2,
       "version_minor": 0
      },
      "text/plain": [
       "  0%|          | 0/89 [00:00<?, ?it/s]"
      ]
     },
     "metadata": {},
     "output_type": "display_data"
    },
    {
     "name": "stdout",
     "output_type": "stream",
     "text": [
      "Accumulating evaluation results...\n",
      "DONE (t=0.12s).\n"
     ]
    },
    {
     "data": {
      "application/vnd.jupyter.widget-view+json": {
       "model_id": "",
       "version_major": 2,
       "version_minor": 0
      },
      "text/plain": [
       "  0%|          | 0/15 [00:00<?, ?it/s]"
      ]
     },
     "metadata": {},
     "output_type": "display_data"
    },
    {
     "data": {
      "application/vnd.jupyter.widget-view+json": {
       "model_id": "",
       "version_major": 2,
       "version_minor": 0
      },
      "text/plain": [
       "  0%|          | 0/30 [00:00<?, ?it/s]"
      ]
     },
     "metadata": {},
     "output_type": "display_data"
    },
    {
     "name": "stdout",
     "output_type": "stream",
     "text": [
      "stats:[0.25483556 0.67440985 0.09480292 0.23440483 0.27318054 0.32233679\n",
      " 0.07856168 0.31065089 0.43887119 0.31745201 0.50019763 0.45114379]\n"
     ]
    },
    {
     "data": {
      "application/vnd.jupyter.widget-view+json": {
       "model_id": "",
       "version_major": 2,
       "version_minor": 0
      },
      "text/plain": [
       "  0%|          | 0/367 [00:00<?, ?it/s]"
      ]
     },
     "metadata": {},
     "output_type": "display_data"
    },
    {
     "name": "stdout",
     "output_type": "stream",
     "text": [
      "Epoch: [7] [  0/367] eta: 0:02:13 lr: 0.000331 loss: 0.3522 (0.3522) time: 0.3647 data: 0.1899 max mem: 2555\n",
      "Epoch: [7] [366/367] eta: 0:00:00 lr: 0.000331 loss: 0.3750 (0.4308) time: 0.1435 data: 0.0115 max mem: 2556\n",
      "Epoch: [7] Total time: 0:00:53 (0.1462 s / it)\n",
      "creating index...\n",
      "index created!\n"
     ]
    },
    {
     "data": {
      "application/vnd.jupyter.widget-view+json": {
       "model_id": "",
       "version_major": 2,
       "version_minor": 0
      },
      "text/plain": [
       "  0%|          | 0/89 [00:00<?, ?it/s]"
      ]
     },
     "metadata": {},
     "output_type": "display_data"
    },
    {
     "name": "stdout",
     "output_type": "stream",
     "text": [
      "Accumulating evaluation results...\n",
      "DONE (t=0.11s).\n"
     ]
    },
    {
     "data": {
      "application/vnd.jupyter.widget-view+json": {
       "model_id": "",
       "version_major": 2,
       "version_minor": 0
      },
      "text/plain": [
       "  0%|          | 0/15 [00:00<?, ?it/s]"
      ]
     },
     "metadata": {},
     "output_type": "display_data"
    },
    {
     "data": {
      "application/vnd.jupyter.widget-view+json": {
       "model_id": "",
       "version_major": 2,
       "version_minor": 0
      },
      "text/plain": [
       "  0%|          | 0/30 [00:00<?, ?it/s]"
      ]
     },
     "metadata": {},
     "output_type": "display_data"
    },
    {
     "name": "stdout",
     "output_type": "stream",
     "text": [
      "stats:[0.28058239 0.7194998  0.11628213 0.21332331 0.30442308 0.31938077\n",
      " 0.08174784 0.32143832 0.44929449 0.39144852 0.48903162 0.4377451 ]\n"
     ]
    },
    {
     "data": {
      "application/vnd.jupyter.widget-view+json": {
       "model_id": "",
       "version_major": 2,
       "version_minor": 0
      },
      "text/plain": [
       "  0%|          | 0/367 [00:00<?, ?it/s]"
      ]
     },
     "metadata": {},
     "output_type": "display_data"
    },
    {
     "name": "stdout",
     "output_type": "stream",
     "text": [
      "Epoch: [8] [  0/367] eta: 0:02:08 lr: 0.000364 loss: 0.5441 (0.5441) time: 0.3493 data: 0.1782 max mem: 2556\n",
      "Epoch: [8] [366/367] eta: 0:00:00 lr: 0.000364 loss: 0.4965 (0.4275) time: 0.1436 data: 0.0116 max mem: 2556\n",
      "Epoch: [8] Total time: 0:00:53 (0.1461 s / it)\n",
      "creating index...\n",
      "index created!\n"
     ]
    },
    {
     "data": {
      "application/vnd.jupyter.widget-view+json": {
       "model_id": "",
       "version_major": 2,
       "version_minor": 0
      },
      "text/plain": [
       "  0%|          | 0/89 [00:00<?, ?it/s]"
      ]
     },
     "metadata": {},
     "output_type": "display_data"
    },
    {
     "name": "stdout",
     "output_type": "stream",
     "text": [
      "Accumulating evaluation results...\n",
      "DONE (t=0.13s).\n"
     ]
    },
    {
     "data": {
      "application/vnd.jupyter.widget-view+json": {
       "model_id": "",
       "version_major": 2,
       "version_minor": 0
      },
      "text/plain": [
       "  0%|          | 0/15 [00:00<?, ?it/s]"
      ]
     },
     "metadata": {},
     "output_type": "display_data"
    },
    {
     "data": {
      "application/vnd.jupyter.widget-view+json": {
       "model_id": "",
       "version_major": 2,
       "version_minor": 0
      },
      "text/plain": [
       "  0%|          | 0/30 [00:00<?, ?it/s]"
      ]
     },
     "metadata": {},
     "output_type": "display_data"
    },
    {
     "name": "stdout",
     "output_type": "stream",
     "text": [
      "stats:[0.27431939 0.71783898 0.11299418 0.22924599 0.28314877 0.35012874\n",
      " 0.08138371 0.32184797 0.44893036 0.33071553 0.49337945 0.48611111]\n"
     ]
    },
    {
     "data": {
      "application/vnd.jupyter.widget-view+json": {
       "model_id": "",
       "version_major": 2,
       "version_minor": 0
      },
      "text/plain": [
       "  0%|          | 0/367 [00:00<?, ?it/s]"
      ]
     },
     "metadata": {},
     "output_type": "display_data"
    },
    {
     "name": "stdout",
     "output_type": "stream",
     "text": [
      "Epoch: [9] [  0/367] eta: 0:02:13 lr: 0.000397 loss: 0.7845 (0.7845) time: 0.3636 data: 0.1838 max mem: 2556\n",
      "Epoch: [9] [366/367] eta: 0:00:00 lr: 0.000397 loss: 0.4410 (0.4239) time: 0.1433 data: 0.0115 max mem: 2556\n",
      "Epoch: [9] Total time: 0:00:53 (0.1463 s / it)\n",
      "creating index...\n",
      "index created!\n"
     ]
    },
    {
     "data": {
      "application/vnd.jupyter.widget-view+json": {
       "model_id": "",
       "version_major": 2,
       "version_minor": 0
      },
      "text/plain": [
       "  0%|          | 0/89 [00:00<?, ?it/s]"
      ]
     },
     "metadata": {},
     "output_type": "display_data"
    },
    {
     "name": "stdout",
     "output_type": "stream",
     "text": [
      "Accumulating evaluation results...\n",
      "DONE (t=0.11s).\n"
     ]
    },
    {
     "data": {
      "application/vnd.jupyter.widget-view+json": {
       "model_id": "",
       "version_major": 2,
       "version_minor": 0
      },
      "text/plain": [
       "  0%|          | 0/15 [00:00<?, ?it/s]"
      ]
     },
     "metadata": {},
     "output_type": "display_data"
    },
    {
     "data": {
      "application/vnd.jupyter.widget-view+json": {
       "model_id": "",
       "version_major": 2,
       "version_minor": 0
      },
      "text/plain": [
       "  0%|          | 0/30 [00:00<?, ?it/s]"
      ]
     },
     "metadata": {},
     "output_type": "display_data"
    },
    {
     "name": "stdout",
     "output_type": "stream",
     "text": [
      "stats:[0.31936132 0.76985063 0.16194235 0.25203266 0.32753573 0.38085154\n",
      " 0.09167046 0.34770141 0.47837961 0.41378709 0.50721344 0.49117647]\n"
     ]
    },
    {
     "data": {
      "application/vnd.jupyter.widget-view+json": {
       "model_id": "",
       "version_major": 2,
       "version_minor": 0
      },
      "text/plain": [
       "  0%|          | 0/367 [00:00<?, ?it/s]"
      ]
     },
     "metadata": {},
     "output_type": "display_data"
    },
    {
     "name": "stdout",
     "output_type": "stream",
     "text": [
      "Epoch: [10] [  0/367] eta: 0:02:11 lr: 0.000430 loss: 0.1575 (0.1575) time: 0.3577 data: 0.1840 max mem: 2556\n",
      "Epoch: [10] [366/367] eta: 0:00:00 lr: 0.000430 loss: 0.3830 (0.4208) time: 0.1432 data: 0.0116 max mem: 2556\n",
      "Epoch: [10] Total time: 0:00:53 (0.1463 s / it)\n",
      "creating index...\n",
      "index created!\n"
     ]
    },
    {
     "data": {
      "application/vnd.jupyter.widget-view+json": {
       "model_id": "",
       "version_major": 2,
       "version_minor": 0
      },
      "text/plain": [
       "  0%|          | 0/89 [00:00<?, ?it/s]"
      ]
     },
     "metadata": {},
     "output_type": "display_data"
    },
    {
     "name": "stdout",
     "output_type": "stream",
     "text": [
      "Accumulating evaluation results...\n",
      "DONE (t=0.10s).\n"
     ]
    },
    {
     "data": {
      "application/vnd.jupyter.widget-view+json": {
       "model_id": "",
       "version_major": 2,
       "version_minor": 0
      },
      "text/plain": [
       "  0%|          | 0/15 [00:00<?, ?it/s]"
      ]
     },
     "metadata": {},
     "output_type": "display_data"
    },
    {
     "data": {
      "application/vnd.jupyter.widget-view+json": {
       "model_id": "",
       "version_major": 2,
       "version_minor": 0
      },
      "text/plain": [
       "  0%|          | 0/30 [00:00<?, ?it/s]"
      ]
     },
     "metadata": {},
     "output_type": "display_data"
    },
    {
     "name": "stdout",
     "output_type": "stream",
     "text": [
      "stats:[0.33140878 0.78229912 0.18226553 0.25280941 0.33341301 0.39564216\n",
      " 0.09276286 0.35065999 0.47897132 0.42582897 0.50662055 0.48300654]\n"
     ]
    },
    {
     "data": {
      "application/vnd.jupyter.widget-view+json": {
       "model_id": "04130b4e1a38437da137ab6aae0bf482",
       "version_major": 2,
       "version_minor": 0
      },
      "text/plain": [
       "  0%|          | 0/367 [00:00<?, ?it/s]"
      ]
     },
     "metadata": {},
     "output_type": "display_data"
    },
    {
     "name": "stdout",
     "output_type": "stream",
     "text": [
      "Epoch: [11] [  0/367] eta: 0:02:09 lr: 0.000463 loss: 0.2375 (0.2375) time: 0.3525 data: 0.1808 max mem: 2556\n"
     ]
    }
   ],
   "source": [
    "if hasattr(tqdm,'notebook'):\n",
    "    pr = tqdm.notebook.tqdm(frcnn_fpn_res.items())\n",
    "else:\n",
    "    pr = tqdm.tqdm_notebook(frcnn_fpn_res.items())\n",
    "for k,frcnn_fpn in pr:\n",
    "    fn = os.path.join(opt.exp_name,'NDT_Deer',k)\n",
    "    if not os.path.isdir(fn):\n",
    "        os.mkdir(fn)\n",
    "    palette_id = trainDS.pid\n",
    "    fn = os.path.join(fn,str(palette_id))\n",
    "    if not os.path.isdir(fn):\n",
    "        os.mkdir(fn)\n",
    "    suffix_name = f'deer_fpn_{k}'\n",
    "    print(f'palette: {palette_id}, model: {k}, path:{fn}, suffix:{suffix_name}')\n",
    "    #\n",
    "    gif_train, gif_test = [],[]\n",
    "    # initialize model parameters\n",
    "    frcnn_fpn.to(device)\n",
    "    params = [p for p in frcnn_fpn.parameters() if p.requires_grad]\n",
    "    optimizer = torch.optim.SGD(params, lr=0.01)\n",
    "    lr_scheduler = torch.optim.lr_scheduler.CyclicLR(optimizer,base_lr=0.0001,max_lr=0.01,step_size_up=step_size_up,mode='triangular2')\n",
    "    bratios = np.zeros(12)\n",
    "    coco_stats = []\n",
    "    global_avg_losses=[]\n",
    "    # train\n",
    "    stale=0\n",
    "    num_iter = tqdm.notebook.tqdm(range(0,num_epochs), leave=False)\n",
    "    for epoch in num_iter:\n",
    "        logger=sodt_utils.lht_train_one_epoch(frcnn_fpn,optimizer,train_loader,device,epoch,print_freq=len(train_loader),warm=True)\n",
    "        lr_scheduler.step()\n",
    "        lr = optimizer.param_groups[0]['lr']\n",
    "        num_iter.set_postfix(lr=lr)\n",
    "        coco_evaluator = lhtevaluator.lht_get_coco_evaluator(frcnn_fpn,test_loader,device=device,areaRng=opt.areaRng)\n",
    "        stats = lhtevaluator.lht_get_coco_stats(coco_evaluator)\n",
    "        coco_stats.append(stats.tolist())\n",
    "        #losses\n",
    "        global_avg_losses.append(logger.loss.global_avg)\n",
    "        tratios = stats\n",
    "        ids = np.argwhere(tratios>bratios).ravel().tolist()\n",
    "        if len(ids) == 0:\n",
    "            stale += 1\n",
    "            if stale > patience:\n",
    "                print(f\"No improvment {patience} consecutive epochs, early stopping\")\n",
    "                break\n",
    "        else:\n",
    "            stale = 0\n",
    "            preds_test = sodt_utils.lht_predictByDSLoader(test_gif_loader, device, frcnn_fpn)        \n",
    "            preds_train = sodt_utils.lht_predictByDSLoader(train_gif_loader, device, frcnn_fpn)\n",
    "            gif_test.append(preds_test)\n",
    "            gif_train.append(preds_train)\n",
    "            print(f'stats:{stats}')\n",
    "        for i in ids:\n",
    "            fn_m = f\"{suffix_name}_{i}.ckpt\"\n",
    "            fp = os.path.join(fn,fn_m)\n",
    "            torch.save(frcnn_fpn.state_dict(), fp)\n",
    "            bratios[i] = tratios[i]\n",
    "    #\n",
    "    # save coco_stats.npy\n",
    "    coco_fp = os.path.join(fn,\"coco_stats.npy\")\n",
    "    with open(coco_fp, 'wb') as fin:\n",
    "        np.save(fin, np.array(coco_stats))\n",
    "    # save global_avg_losses.npy\n",
    "    loss_fp = os.path.join(fn,\"global_avg_losses.npy\")\n",
    "    with open(loss_fp, 'wb') as fin:\n",
    "        np.save(fin, np.array(global_avg_losses))\n",
    "    # save the model in the last iteration.\n",
    "    fn_m = f\"{suffix_name}_end.ckpt\"\n",
    "    fp = os.path.join(fn,fn_m)\n",
    "    torch.save(frcnn_fpn.state_dict(), fp)\n",
    "    #\n",
    "    ret_bratios[k] = bratios\n",
    "    dic_gif_test[k] = gif_test\n",
    "    dic_gif_train[k] = gif_train"
   ]
  },
  {
   "cell_type": "code",
   "execution_count": null,
   "id": "4337a465-9130-4abe-9ba0-8473ec03aef0",
   "metadata": {},
   "outputs": [],
   "source": []
  },
  {
   "cell_type": "code",
   "execution_count": 20,
   "id": "137bfd7d-cb9f-44c7-9b94-82c34dbc481c",
   "metadata": {},
   "outputs": [
    {
     "name": "stdout",
     "output_type": "stream",
     "text": [
      "id: 0, name: NVIDIA GeForce RTX 3090\n",
      "Memory Usage\n",
      "Allocated: 0.0 GB\n",
      "Max memory reserved:  0.0 GB\n",
      "Total memory:  23.7 GB\n",
      "Free memory:  23.7 GB\n",
      "--------------------\n"
     ]
    }
   ],
   "source": [
    "sodt_utils.lht_get_cuda_info()"
   ]
  }
 ],
 "metadata": {
  "kernelspec": {
   "display_name": "env_torch",
   "language": "python",
   "name": "env_torch"
  },
  "language_info": {
   "codemirror_mode": {
    "name": "ipython",
    "version": 3
   },
   "file_extension": ".py",
   "mimetype": "text/x-python",
   "name": "python",
   "nbconvert_exporter": "python",
   "pygments_lexer": "ipython3",
   "version": "3.9.13"
  }
 },
 "nbformat": 4,
 "nbformat_minor": 5
}
